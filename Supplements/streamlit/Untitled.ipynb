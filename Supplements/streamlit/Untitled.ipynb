{
 "cells": [
  {
   "cell_type": "code",
   "execution_count": 2,
   "id": "4fabf88b",
   "metadata": {},
   "outputs": [],
   "source": [
    "import pandas as pd\n",
    "import numpy as np\n",
    "import sklearn\n",
    "import pickle\n",
    "import streamlit as st\n",
    "import joblib\n",
    "\n",
    "from sklearn.model_selection import train_test_split, cross_val_score, GridSearchCV, KFold\n",
    "from sklearn.ensemble import RandomForestRegressor\n",
    "from sklearn.preprocessing import StandardScaler, OneHotEncoder\n",
    "from sklearn.metrics import accuracy_score, mean_squared_error, mean_absolute_error, explained_variance_score\n",
    "from sklearn.pipeline import Pipeline\n",
    "from sklearn.compose import ColumnTransformer\n",
    "\n",
    "from geopy.distance import geodesic\n",
    "from datetime import timedelta, date"
   ]
  },
  {
   "cell_type": "code",
   "execution_count": 3,
   "id": "1bf4a220",
   "metadata": {},
   "outputs": [
    {
     "data": {
      "text/plain": [
       "datetime.date(2023, 1, 7)"
      ]
     },
     "execution_count": 3,
     "metadata": {},
     "output_type": "execute_result"
    }
   ],
   "source": [
    "date.today() + timedelta(days=1)"
   ]
  },
  {
   "cell_type": "code",
   "execution_count": 4,
   "id": "da17bbee",
   "metadata": {},
   "outputs": [
    {
     "data": {
      "text/html": [
       "<style>#sk-container-id-1 {color: black;background-color: white;}#sk-container-id-1 pre{padding: 0;}#sk-container-id-1 div.sk-toggleable {background-color: white;}#sk-container-id-1 label.sk-toggleable__label {cursor: pointer;display: block;width: 100%;margin-bottom: 0;padding: 0.3em;box-sizing: border-box;text-align: center;}#sk-container-id-1 label.sk-toggleable__label-arrow:before {content: \"▸\";float: left;margin-right: 0.25em;color: #696969;}#sk-container-id-1 label.sk-toggleable__label-arrow:hover:before {color: black;}#sk-container-id-1 div.sk-estimator:hover label.sk-toggleable__label-arrow:before {color: black;}#sk-container-id-1 div.sk-toggleable__content {max-height: 0;max-width: 0;overflow: hidden;text-align: left;background-color: #f0f8ff;}#sk-container-id-1 div.sk-toggleable__content pre {margin: 0.2em;color: black;border-radius: 0.25em;background-color: #f0f8ff;}#sk-container-id-1 input.sk-toggleable__control:checked~div.sk-toggleable__content {max-height: 200px;max-width: 100%;overflow: auto;}#sk-container-id-1 input.sk-toggleable__control:checked~label.sk-toggleable__label-arrow:before {content: \"▾\";}#sk-container-id-1 div.sk-estimator input.sk-toggleable__control:checked~label.sk-toggleable__label {background-color: #d4ebff;}#sk-container-id-1 div.sk-label input.sk-toggleable__control:checked~label.sk-toggleable__label {background-color: #d4ebff;}#sk-container-id-1 input.sk-hidden--visually {border: 0;clip: rect(1px 1px 1px 1px);clip: rect(1px, 1px, 1px, 1px);height: 1px;margin: -1px;overflow: hidden;padding: 0;position: absolute;width: 1px;}#sk-container-id-1 div.sk-estimator {font-family: monospace;background-color: #f0f8ff;border: 1px dotted black;border-radius: 0.25em;box-sizing: border-box;margin-bottom: 0.5em;}#sk-container-id-1 div.sk-estimator:hover {background-color: #d4ebff;}#sk-container-id-1 div.sk-parallel-item::after {content: \"\";width: 100%;border-bottom: 1px solid gray;flex-grow: 1;}#sk-container-id-1 div.sk-label:hover label.sk-toggleable__label {background-color: #d4ebff;}#sk-container-id-1 div.sk-serial::before {content: \"\";position: absolute;border-left: 1px solid gray;box-sizing: border-box;top: 0;bottom: 0;left: 50%;z-index: 0;}#sk-container-id-1 div.sk-serial {display: flex;flex-direction: column;align-items: center;background-color: white;padding-right: 0.2em;padding-left: 0.2em;position: relative;}#sk-container-id-1 div.sk-item {position: relative;z-index: 1;}#sk-container-id-1 div.sk-parallel {display: flex;align-items: stretch;justify-content: center;background-color: white;position: relative;}#sk-container-id-1 div.sk-item::before, #sk-container-id-1 div.sk-parallel-item::before {content: \"\";position: absolute;border-left: 1px solid gray;box-sizing: border-box;top: 0;bottom: 0;left: 50%;z-index: -1;}#sk-container-id-1 div.sk-parallel-item {display: flex;flex-direction: column;z-index: 1;position: relative;background-color: white;}#sk-container-id-1 div.sk-parallel-item:first-child::after {align-self: flex-end;width: 50%;}#sk-container-id-1 div.sk-parallel-item:last-child::after {align-self: flex-start;width: 50%;}#sk-container-id-1 div.sk-parallel-item:only-child::after {width: 0;}#sk-container-id-1 div.sk-dashed-wrapped {border: 1px dashed gray;margin: 0 0.4em 0.5em 0.4em;box-sizing: border-box;padding-bottom: 0.4em;background-color: white;}#sk-container-id-1 div.sk-label label {font-family: monospace;font-weight: bold;display: inline-block;line-height: 1.2em;}#sk-container-id-1 div.sk-label-container {text-align: center;}#sk-container-id-1 div.sk-container {/* jupyter's `normalize.less` sets `[hidden] { display: none; }` but bootstrap.min.css set `[hidden] { display: none !important; }` so we also need the `!important` here to be able to override the default hidden behavior on the sphinx rendered scikit-learn.org. See: https://github.com/scikit-learn/scikit-learn/issues/21755 */display: inline-block !important;position: relative;}#sk-container-id-1 div.sk-text-repr-fallback {display: none;}</style><div id=\"sk-container-id-1\" class=\"sk-top-container\"><div class=\"sk-text-repr-fallback\"><pre>Pipeline(steps=[(&#x27;preprocess&#x27;,\n",
       "                 ColumnTransformer(transformers=[(&#x27;nominalpipe&#x27;,\n",
       "                                                  Pipeline(steps=[(&#x27;ohe&#x27;,\n",
       "                                                                   OneHotEncoder(handle_unknown=&#x27;ignore&#x27;,\n",
       "                                                                                 sparse=False))]),\n",
       "                                                  [&#x27;room_type&#x27;, &#x27;neighborhood&#x27;,\n",
       "                                                   &#x27;day_of_week&#x27;, &#x27;month&#x27;,\n",
       "                                                   &#x27;week&#x27;]),\n",
       "                                                 (&#x27;numpipe&#x27;,\n",
       "                                                  Pipeline(steps=[(&#x27;scaler&#x27;,\n",
       "                                                                   StandardScaler())]),\n",
       "                                                  [&#x27;host_is_superhost&#x27;,\n",
       "                                                   &#x27;accommodates&#x27;, &#x27;bedrooms&#x27;,\n",
       "                                                   &#x27;beds&#x27;, &#x27;bathrooms&#x27;,\n",
       "                                                   &#x27;Air conditioning&#x27;, &#x27;Wifi&#x27;,\n",
       "                                                   &#x27;TV&#x27;, &#x27;Kitchen&#x27;, &#x27;Washer&#x27;,\n",
       "                                                   &#x27;Dryer&#x27;, &#x27;Heating&#x27;,\n",
       "                                                   &#x27;distance_to_biltmore&#x27;,\n",
       "                                                   &#x27;distance_to_downtown&#x27;])])),\n",
       "                (&#x27;model&#x27;, RandomForestRegressor())])</pre><b>In a Jupyter environment, please rerun this cell to show the HTML representation or trust the notebook. <br />On GitHub, the HTML representation is unable to render, please try loading this page with nbviewer.org.</b></div><div class=\"sk-container\" hidden><div class=\"sk-item sk-dashed-wrapped\"><div class=\"sk-label-container\"><div class=\"sk-label sk-toggleable\"><input class=\"sk-toggleable__control sk-hidden--visually\" id=\"sk-estimator-id-1\" type=\"checkbox\" ><label for=\"sk-estimator-id-1\" class=\"sk-toggleable__label sk-toggleable__label-arrow\">Pipeline</label><div class=\"sk-toggleable__content\"><pre>Pipeline(steps=[(&#x27;preprocess&#x27;,\n",
       "                 ColumnTransformer(transformers=[(&#x27;nominalpipe&#x27;,\n",
       "                                                  Pipeline(steps=[(&#x27;ohe&#x27;,\n",
       "                                                                   OneHotEncoder(handle_unknown=&#x27;ignore&#x27;,\n",
       "                                                                                 sparse=False))]),\n",
       "                                                  [&#x27;room_type&#x27;, &#x27;neighborhood&#x27;,\n",
       "                                                   &#x27;day_of_week&#x27;, &#x27;month&#x27;,\n",
       "                                                   &#x27;week&#x27;]),\n",
       "                                                 (&#x27;numpipe&#x27;,\n",
       "                                                  Pipeline(steps=[(&#x27;scaler&#x27;,\n",
       "                                                                   StandardScaler())]),\n",
       "                                                  [&#x27;host_is_superhost&#x27;,\n",
       "                                                   &#x27;accommodates&#x27;, &#x27;bedrooms&#x27;,\n",
       "                                                   &#x27;beds&#x27;, &#x27;bathrooms&#x27;,\n",
       "                                                   &#x27;Air conditioning&#x27;, &#x27;Wifi&#x27;,\n",
       "                                                   &#x27;TV&#x27;, &#x27;Kitchen&#x27;, &#x27;Washer&#x27;,\n",
       "                                                   &#x27;Dryer&#x27;, &#x27;Heating&#x27;,\n",
       "                                                   &#x27;distance_to_biltmore&#x27;,\n",
       "                                                   &#x27;distance_to_downtown&#x27;])])),\n",
       "                (&#x27;model&#x27;, RandomForestRegressor())])</pre></div></div></div><div class=\"sk-serial\"><div class=\"sk-item sk-dashed-wrapped\"><div class=\"sk-label-container\"><div class=\"sk-label sk-toggleable\"><input class=\"sk-toggleable__control sk-hidden--visually\" id=\"sk-estimator-id-2\" type=\"checkbox\" ><label for=\"sk-estimator-id-2\" class=\"sk-toggleable__label sk-toggleable__label-arrow\">preprocess: ColumnTransformer</label><div class=\"sk-toggleable__content\"><pre>ColumnTransformer(transformers=[(&#x27;nominalpipe&#x27;,\n",
       "                                 Pipeline(steps=[(&#x27;ohe&#x27;,\n",
       "                                                  OneHotEncoder(handle_unknown=&#x27;ignore&#x27;,\n",
       "                                                                sparse=False))]),\n",
       "                                 [&#x27;room_type&#x27;, &#x27;neighborhood&#x27;, &#x27;day_of_week&#x27;,\n",
       "                                  &#x27;month&#x27;, &#x27;week&#x27;]),\n",
       "                                (&#x27;numpipe&#x27;,\n",
       "                                 Pipeline(steps=[(&#x27;scaler&#x27;, StandardScaler())]),\n",
       "                                 [&#x27;host_is_superhost&#x27;, &#x27;accommodates&#x27;,\n",
       "                                  &#x27;bedrooms&#x27;, &#x27;beds&#x27;, &#x27;bathrooms&#x27;,\n",
       "                                  &#x27;Air conditioning&#x27;, &#x27;Wifi&#x27;, &#x27;TV&#x27;, &#x27;Kitchen&#x27;,\n",
       "                                  &#x27;Washer&#x27;, &#x27;Dryer&#x27;, &#x27;Heating&#x27;,\n",
       "                                  &#x27;distance_to_biltmore&#x27;,\n",
       "                                  &#x27;distance_to_downtown&#x27;])])</pre></div></div></div><div class=\"sk-parallel\"><div class=\"sk-parallel-item\"><div class=\"sk-item\"><div class=\"sk-label-container\"><div class=\"sk-label sk-toggleable\"><input class=\"sk-toggleable__control sk-hidden--visually\" id=\"sk-estimator-id-3\" type=\"checkbox\" ><label for=\"sk-estimator-id-3\" class=\"sk-toggleable__label sk-toggleable__label-arrow\">nominalpipe</label><div class=\"sk-toggleable__content\"><pre>[&#x27;room_type&#x27;, &#x27;neighborhood&#x27;, &#x27;day_of_week&#x27;, &#x27;month&#x27;, &#x27;week&#x27;]</pre></div></div></div><div class=\"sk-serial\"><div class=\"sk-item\"><div class=\"sk-serial\"><div class=\"sk-item\"><div class=\"sk-estimator sk-toggleable\"><input class=\"sk-toggleable__control sk-hidden--visually\" id=\"sk-estimator-id-4\" type=\"checkbox\" ><label for=\"sk-estimator-id-4\" class=\"sk-toggleable__label sk-toggleable__label-arrow\">OneHotEncoder</label><div class=\"sk-toggleable__content\"><pre>OneHotEncoder(handle_unknown=&#x27;ignore&#x27;, sparse=False)</pre></div></div></div></div></div></div></div></div><div class=\"sk-parallel-item\"><div class=\"sk-item\"><div class=\"sk-label-container\"><div class=\"sk-label sk-toggleable\"><input class=\"sk-toggleable__control sk-hidden--visually\" id=\"sk-estimator-id-5\" type=\"checkbox\" ><label for=\"sk-estimator-id-5\" class=\"sk-toggleable__label sk-toggleable__label-arrow\">numpipe</label><div class=\"sk-toggleable__content\"><pre>[&#x27;host_is_superhost&#x27;, &#x27;accommodates&#x27;, &#x27;bedrooms&#x27;, &#x27;beds&#x27;, &#x27;bathrooms&#x27;, &#x27;Air conditioning&#x27;, &#x27;Wifi&#x27;, &#x27;TV&#x27;, &#x27;Kitchen&#x27;, &#x27;Washer&#x27;, &#x27;Dryer&#x27;, &#x27;Heating&#x27;, &#x27;distance_to_biltmore&#x27;, &#x27;distance_to_downtown&#x27;]</pre></div></div></div><div class=\"sk-serial\"><div class=\"sk-item\"><div class=\"sk-serial\"><div class=\"sk-item\"><div class=\"sk-estimator sk-toggleable\"><input class=\"sk-toggleable__control sk-hidden--visually\" id=\"sk-estimator-id-6\" type=\"checkbox\" ><label for=\"sk-estimator-id-6\" class=\"sk-toggleable__label sk-toggleable__label-arrow\">StandardScaler</label><div class=\"sk-toggleable__content\"><pre>StandardScaler()</pre></div></div></div></div></div></div></div></div></div></div><div class=\"sk-item\"><div class=\"sk-estimator sk-toggleable\"><input class=\"sk-toggleable__control sk-hidden--visually\" id=\"sk-estimator-id-7\" type=\"checkbox\" ><label for=\"sk-estimator-id-7\" class=\"sk-toggleable__label sk-toggleable__label-arrow\">RandomForestRegressor</label><div class=\"sk-toggleable__content\"><pre>RandomForestRegressor()</pre></div></div></div></div></div></div></div>"
      ],
      "text/plain": [
       "Pipeline(steps=[('preprocess',\n",
       "                 ColumnTransformer(transformers=[('nominalpipe',\n",
       "                                                  Pipeline(steps=[('ohe',\n",
       "                                                                   OneHotEncoder(handle_unknown='ignore',\n",
       "                                                                                 sparse=False))]),\n",
       "                                                  ['room_type', 'neighborhood',\n",
       "                                                   'day_of_week', 'month',\n",
       "                                                   'week']),\n",
       "                                                 ('numpipe',\n",
       "                                                  Pipeline(steps=[('scaler',\n",
       "                                                                   StandardScaler())]),\n",
       "                                                  ['host_is_superhost',\n",
       "                                                   'accommodates', 'bedrooms',\n",
       "                                                   'beds', 'bathrooms',\n",
       "                                                   'Air conditioning', 'Wifi',\n",
       "                                                   'TV', 'Kitchen', 'Washer',\n",
       "                                                   'Dryer', 'Heating',\n",
       "                                                   'distance_to_biltmore',\n",
       "                                                   'distance_to_downtown'])])),\n",
       "                ('model', RandomForestRegressor())])"
      ]
     },
     "execution_count": 4,
     "metadata": {},
     "output_type": "execute_result"
    }
   ],
   "source": [
    "asheville_modeling_data = pd.read_pickle('../streamlit/asheville_modeling_data.pkl')\n",
    "streamlit_model3_results = joblib.load('../streamlit/streamlit_model3_results.joblib')\n",
    "streamlit_model3_results"
   ]
  },
  {
   "cell_type": "code",
   "execution_count": 3,
   "id": "a2a4dd77",
   "metadata": {},
   "outputs": [],
   "source": [
    "#Create a model 3 X and y variable \n",
    "model3_X = asheville_modeling_data.drop(['daily_price', 'listing_id'], axis = 1)\n",
    "model3_y = asheville_modeling_data['daily_price']\n",
    "\n",
    "#Train, test, split the X and y variables\n",
    "model3_X_train, model3_X_test, model3_y_train, model3_y_test = train_test_split(model3_X, \n",
    "                                                                                model3_y, \n",
    "                                                                                test_size = 0.2)\n",
    "\n",
    "#Create a list of numeric columns\n",
    "model3_numeric_cols = ['host_is_superhost', 'accommodates', 'bedrooms', 'beds', 'bathrooms', \n",
    "                       'Air conditioning', 'Wifi', 'TV', 'Kitchen', 'Washer', 'Dryer', 'Heating',\n",
    "                       'distance_to_biltmore', 'distance_to_downtown']\n",
    "\n",
    "#Create a list of nominal columns\n",
    "model3_nominal_cols = ['neighborhood', 'room_type', 'day_of_week', 'month', 'week']\n",
    "\n",
    "#Scale the numeric columns\n",
    "model3_numeric_pipeline = Pipeline([('scaler', StandardScaler())])\n",
    "\n",
    "#One hot encode the nominal columns\n",
    "model3_nominal_pipeline = Pipeline([('ohe', OneHotEncoder(sparse = False))])\n",
    "\n",
    "#Column tranform the two pipelines\n",
    "ct = ColumnTransformer([('nominalpipe', model3_nominal_pipeline, model3_nominal_cols ),\n",
    "                        ('numpipe', model3_numeric_pipeline, model3_numeric_cols)])\n",
    "\n",
    "#Create a final pipeline with the column transformer and random forest regressor model\n",
    "model3_final_pipe = Pipeline([('preprocess', ct),\n",
    "                              ('model', RandomForestRegressor())])"
   ]
  },
  {
   "cell_type": "code",
   "execution_count": 10,
   "id": "c0900980",
   "metadata": {},
   "outputs": [],
   "source": [
    "room_options = ['Entire home/apt', 'Private room']\n",
    "room_options_len = list(range(len(room_options)))\n",
    "\n",
    "neighborhood_options = ['Asheville', 'Candler', 'Fletcher', 'Woodfin']\n",
    "neighborhood_options_len = list(range(len(neighborhood_options)))\n",
    "\n",
    "superhost = 1\n",
    "room_type = room_options[0]\n",
    "accommodates = 5\n",
    "bedrooms = 4\n",
    "beds = 5\n",
    "neighborhood = neighborhood_options[0]\n",
    "bathrooms = 3\n",
    "air_conditioning = 1\n",
    "wifi = 1\n",
    "tv = 1\n",
    "kitchen = 1\n",
    "washer = 1\n",
    "dryer = 1\n",
    "heating = 1\n",
    "latitude = 50.00\n",
    "longitude = -50.00\n",
    "checkin_date = 1/9/2023\n",
    "checkout_date = 1/16/2023"
   ]
  },
  {
   "cell_type": "code",
   "execution_count": 11,
   "id": "d612b570",
   "metadata": {},
   "outputs": [],
   "source": [
    "def user_input_features():\n",
    "    def yes_no_conversion(input):\n",
    "        if input == 'Yes':\n",
    "            return 1\n",
    "        else:\n",
    "            return 0\n",
    "    \n",
    "    yes_no_conversion(superhost)\n",
    "    yes_no_conversion(air_conditioning)\n",
    "    yes_no_conversion(wifi)\n",
    "    yes_no_conversion(tv)\n",
    "    yes_no_conversion(kitchen)\n",
    "    yes_no_conversion(washer)\n",
    "    yes_no_conversion(dryer)\n",
    "    yes_no_conversion(heating)\n",
    "    \n",
    "    conv_long = longitude\n",
    "    conv_lat = latitude\n",
    "    test_coords = (conv_long, conv_lat)\n",
    "    \n",
    "    biltmore = (35.54108101423884, -82.55210010496437) \n",
    "    downtown = (35.60405939066325, -82.54533225431588)\n",
    "    \n",
    "    checkin_data = {'host_is_superhost': superhost,\n",
    "            'room_type': room_type,\n",
    "            'accommodates': accommodates,\n",
    "            'bedrooms': bedrooms,\n",
    "            'beds': beds,\n",
    "            'neighborhood': neighborhood,\n",
    "            'bathrooms': bathrooms,\n",
    "            'Air conditioning': air_conditioning,\n",
    "            'Wifi': wifi,\n",
    "            'TV': tv,\n",
    "            'Kitchen': kitchen,\n",
    "            'Washer': washer,\n",
    "            'Dryer': dryer,\n",
    "            'Heating': heating,\n",
    "            'distance_to_biltmore': geodesic(test_coords, biltmore).miles,\n",
    "            'distance_to_downtown': geodesic(test_coords, downtown).miles,\n",
    "            'day_of_week': pd.to_datetime(checkin_date).dayofweek,\n",
    "            'month': pd.to_datetime(checkin_date).month,\n",
    "            'week': pd.to_datetime(checkin_date).week}\n",
    "\n",
    "    checkin_features = pd.DataFrame(checkin_data, index = [0])\n",
    "    \n",
    "    \n",
    "#     checkout_data = {'host_is_superhost': superhost,\n",
    "#             'room_type': room_type,\n",
    "#             'accommodates': accommodates,\n",
    "#             'bedrooms': bedrooms,\n",
    "#             'beds': beds,\n",
    "#             'neighborhood': neighborhood,\n",
    "#             'bathrooms': bathrooms,\n",
    "#             'Air conditioning': air_conditioning,\n",
    "#             'Wifi': wifi,\n",
    "#             'TV': tv,\n",
    "#             'Kitchen': kitchen,\n",
    "#             'Washer': washer,\n",
    "#             'Dryer': dryer,\n",
    "#             'Heating': heating,\n",
    "#             'coords': test_coords,\n",
    "#             'distance_to_biltmore': geodesic(test_coords, biltmore).miles,\n",
    "#             'distance_to_downtown': geodesic(test_coords, downtown).miles,\n",
    "#             'day_of_week': pd.to_datetime(checkout_date).dayofweek,\n",
    "#             'month': pd.to_datetime(checkout_date).month,\n",
    "#             'week': pd.to_datetime(checkout_date).week}\n",
    "    \n",
    "#     checkout_features = pd.DataFrame(checkout_data)\n",
    "  \n",
    "    return checkin_features\n",
    "# , checkout_features"
   ]
  },
  {
   "cell_type": "code",
   "execution_count": 12,
   "id": "594e347f",
   "metadata": {},
   "outputs": [
    {
     "data": {
      "text/html": [
       "<div>\n",
       "<style scoped>\n",
       "    .dataframe tbody tr th:only-of-type {\n",
       "        vertical-align: middle;\n",
       "    }\n",
       "\n",
       "    .dataframe tbody tr th {\n",
       "        vertical-align: top;\n",
       "    }\n",
       "\n",
       "    .dataframe thead th {\n",
       "        text-align: right;\n",
       "    }\n",
       "</style>\n",
       "<table border=\"1\" class=\"dataframe\">\n",
       "  <thead>\n",
       "    <tr style=\"text-align: right;\">\n",
       "      <th></th>\n",
       "      <th>host_is_superhost</th>\n",
       "      <th>room_type</th>\n",
       "      <th>accommodates</th>\n",
       "      <th>bedrooms</th>\n",
       "      <th>beds</th>\n",
       "      <th>neighborhood</th>\n",
       "      <th>bathrooms</th>\n",
       "      <th>Air conditioning</th>\n",
       "      <th>Wifi</th>\n",
       "      <th>TV</th>\n",
       "      <th>Kitchen</th>\n",
       "      <th>Washer</th>\n",
       "      <th>Dryer</th>\n",
       "      <th>Heating</th>\n",
       "      <th>distance_to_biltmore</th>\n",
       "      <th>distance_to_downtown</th>\n",
       "      <th>day_of_week</th>\n",
       "      <th>month</th>\n",
       "      <th>week</th>\n",
       "    </tr>\n",
       "  </thead>\n",
       "  <tbody>\n",
       "    <tr>\n",
       "      <th>0</th>\n",
       "      <td>1</td>\n",
       "      <td>Entire home/apt</td>\n",
       "      <td>5</td>\n",
       "      <td>4</td>\n",
       "      <td>5</td>\n",
       "      <td>Asheville</td>\n",
       "      <td>3</td>\n",
       "      <td>1</td>\n",
       "      <td>1</td>\n",
       "      <td>1</td>\n",
       "      <td>1</td>\n",
       "      <td>1</td>\n",
       "      <td>1</td>\n",
       "      <td>1</td>\n",
       "      <td>9879.03978</td>\n",
       "      <td>9881.41147</td>\n",
       "      <td>3</td>\n",
       "      <td>1</td>\n",
       "      <td>1</td>\n",
       "    </tr>\n",
       "  </tbody>\n",
       "</table>\n",
       "</div>"
      ],
      "text/plain": [
       "   host_is_superhost        room_type  accommodates  bedrooms  beds  \\\n",
       "0                  1  Entire home/apt             5         4     5   \n",
       "\n",
       "  neighborhood  bathrooms  Air conditioning  Wifi  TV  Kitchen  Washer  Dryer  \\\n",
       "0    Asheville          3                 1     1   1        1       1      1   \n",
       "\n",
       "   Heating  distance_to_biltmore  distance_to_downtown  day_of_week  month  \\\n",
       "0        1            9879.03978            9881.41147            3      1   \n",
       "\n",
       "   week  \n",
       "0     1  "
      ]
     },
     "execution_count": 12,
     "metadata": {},
     "output_type": "execute_result"
    }
   ],
   "source": [
    "user_input_features()\n"
   ]
  },
  {
   "cell_type": "code",
   "execution_count": 13,
   "id": "b3faa5ae",
   "metadata": {},
   "outputs": [],
   "source": [
    "checkin_features = user_input_features()\n",
    "# checkin_features['coords'] = checkin_features['coords'].apply(lambda x: x.split(' '))\n",
    "# checkin_features['coords'][0][0] = int(checkin_features['coords'][0][0]) \n",
    "# checkin_features['coords'][0][1] = int(checkin_features['coords'][0][1]) \n"
   ]
  },
  {
   "cell_type": "code",
   "execution_count": 14,
   "id": "47db95fc",
   "metadata": {},
   "outputs": [
    {
     "data": {
      "text/plain": [
       "Index(['host_is_superhost', 'room_type', 'accommodates', 'bedrooms', 'beds',\n",
       "       'neighborhood', 'bathrooms', 'Air conditioning', 'Wifi', 'TV',\n",
       "       'Kitchen', 'Washer', 'Dryer', 'Heating', 'distance_to_biltmore',\n",
       "       'distance_to_downtown', 'day_of_week', 'month', 'week'],\n",
       "      dtype='object')"
      ]
     },
     "execution_count": 14,
     "metadata": {},
     "output_type": "execute_result"
    }
   ],
   "source": [
    "checkin_features.columns"
   ]
  },
  {
   "cell_type": "code",
   "execution_count": 15,
   "id": "d73d8459",
   "metadata": {},
   "outputs": [
    {
     "data": {
      "text/plain": [
       "216.92"
      ]
     },
     "execution_count": 15,
     "metadata": {},
     "output_type": "execute_result"
    }
   ],
   "source": [
    "checkin_price = float(streamlit_model3_results.predict(checkin_features))\n",
    "# checkout_price = float(streamlit_model3_results.predict(checkout_features))\n",
    "# average_price = (checkin_price + checkout_price) / 2\n",
    "# total_stay_days = (pd.to_datetime(checkout_date) - pd.to_datetime(checkin_date)).days\n",
    "checkin_price"
   ]
  },
  {
   "cell_type": "code",
   "execution_count": 17,
   "id": "95025eb1",
   "metadata": {},
   "outputs": [
    {
     "data": {
      "text/plain": [
       "dtype('int64')"
      ]
     },
     "execution_count": 17,
     "metadata": {},
     "output_type": "execute_result"
    }
   ],
   "source": [
    "checkin_features.index.values.dtype"
   ]
  },
  {
   "cell_type": "code",
   "execution_count": 24,
   "id": "6f8b7608",
   "metadata": {},
   "outputs": [],
   "source": [
    "test_longitude = 50.0\n",
    "test_latitude = -50.0\n",
    "test_conv_long = float(test_longitude)\n",
    "test_conv_lat = float(test_latitude)\n",
    "test_test_coords = (test_conv_lat, test_conv_long)"
   ]
  },
  {
   "cell_type": "code",
   "execution_count": 25,
   "id": "593c4838",
   "metadata": {},
   "outputs": [
    {
     "data": {
      "text/plain": [
       "float"
      ]
     },
     "execution_count": 25,
     "metadata": {},
     "output_type": "execute_result"
    }
   ],
   "source": [
    "type(test_test_coords[0])"
   ]
  },
  {
   "cell_type": "code",
   "execution_count": 26,
   "id": "43a269c8",
   "metadata": {},
   "outputs": [
    {
     "data": {
      "text/plain": [
       "(-50.0, 50.0)"
      ]
     },
     "execution_count": 26,
     "metadata": {},
     "output_type": "execute_result"
    }
   ],
   "source": [
    "test_test_coords"
   ]
  },
  {
   "cell_type": "code",
   "execution_count": 35,
   "id": "29fdac1c",
   "metadata": {},
   "outputs": [
    {
     "data": {
      "text/plain": [
       "1.0    501855\n",
       "2.0    177321\n",
       "2.5     36940\n",
       "3.0     36540\n",
       "1.5     36481\n",
       "3.5     11246\n",
       "4.0      7993\n",
       "4.5      2354\n",
       "5.0       697\n",
       "Name: bathrooms, dtype: int64"
      ]
     },
     "execution_count": 35,
     "metadata": {},
     "output_type": "execute_result"
    }
   ],
   "source": [
    "asheville_modeling_data['bathrooms'].value_counts()"
   ]
  },
  {
   "cell_type": "code",
   "execution_count": null,
   "id": "671dba0a",
   "metadata": {},
   "outputs": [],
   "source": []
  }
 ],
 "metadata": {
  "kernelspec": {
   "display_name": "tensorflow_env",
   "language": "python",
   "name": "tensorflow_env"
  },
  "language_info": {
   "codemirror_mode": {
    "name": "ipython",
    "version": 3
   },
   "file_extension": ".py",
   "mimetype": "text/x-python",
   "name": "python",
   "nbconvert_exporter": "python",
   "pygments_lexer": "ipython3",
   "version": "3.8.15"
  }
 },
 "nbformat": 4,
 "nbformat_minor": 5
}
