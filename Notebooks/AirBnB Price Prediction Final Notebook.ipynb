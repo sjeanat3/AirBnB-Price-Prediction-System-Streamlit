{
 "cells": [
  {
   "cell_type": "markdown",
   "id": "439d6c43",
   "metadata": {},
   "source": [
    "# AirBnB Daily Price Predictions"
   ]
  },
  {
   "cell_type": "markdown",
   "id": "c5d24f10",
   "metadata": {},
   "source": [
    "![AirBnB](../Images/airbnb3.jpeg)"
   ]
  },
  {
   "cell_type": "markdown",
   "id": "16fcc1ea",
   "metadata": {},
   "source": [
    "### Import Necessary Libraries"
   ]
  },
  {
   "cell_type": "code",
   "execution_count": 2,
   "id": "0b24c42a",
   "metadata": {},
   "outputs": [
    {
     "name": "stderr",
     "output_type": "stream",
     "text": [
      "/Users/skyejeanat/miniforge3/envs/tensorflow_env/lib/python3.8/site-packages/xgboost/compat.py:36: FutureWarning: pandas.Int64Index is deprecated and will be removed from pandas in a future version. Use pandas.Index with the appropriate dtype instead.\n",
      "  from pandas import MultiIndex, Int64Index\n"
     ]
    }
   ],
   "source": [
    "import pandas as pd\n",
    "import gzip\n",
    "import shutil\n",
    "import seaborn as sns\n",
    "import numpy as np\n",
    "import tensorflow as tf\n",
    "import sklearn\n",
    "import time\n",
    "import xgboost as xgb\n",
    "\n",
    "from sklearn.linear_model import LogisticRegression\n",
    "from sklearn.model_selection import train_test_split, cross_val_score, GridSearchCV, KFold\n",
    "from sklearn.tree import DecisionTreeClassifier\n",
    "from sklearn.ensemble import BaggingClassifier, RandomForestRegressor\n",
    "from sklearn.preprocessing import StandardScaler, OneHotEncoder, OrdinalEncoder, MaxAbsScaler\n",
    "from sklearn.metrics import accuracy_score, confusion_matrix, classification_report, r2_score, mean_squared_error, \\\n",
    "mean_absolute_error, explained_variance_score\n",
    "\n",
    "from sklearn.pipeline import make_pipeline, Pipeline\n",
    "from sklearn.impute import SimpleImputer\n",
    "from sklearn.compose import ColumnTransformer\n",
    "\n",
    "\n",
    "from keras import models, layers \n",
    "from keras.callbacks import EarlyStopping, ModelCheckpoint, LearningRateScheduler\n",
    "from tensorflow.keras.regularizers import l2\n",
    "from tensorflow.keras.models import Sequential, Model, load_model\n",
    "from tensorflow.keras.optimizers import  Adam\n",
    "from tensorflow.keras.layers import Dense, Dropout, Convolution1D, MaxPooling1D, Flatten, \\\n",
    "GlobalAveragePooling1D, BatchNormalization, Resizing, Rescaling, RandomFlip, RandomRotation\n",
    "\n",
    "from matplotlib import pyplot as plt\n",
    "import matplotlib.image as mpimg\n",
    "%matplotlib inline\n",
    "\n",
    "from geopy.distance import geodesic"
   ]
  },
  {
   "cell_type": "markdown",
   "id": "6fb89e12",
   "metadata": {},
   "source": [
    "## Overview / Business Problem"
   ]
  },
  {
   "cell_type": "markdown",
   "id": "338dae14",
   "metadata": {},
   "source": [
    "The target stakeholder is an AirBnB owner who owns property either in the cities of Asheville, Nashville, or Austin. AirBnB has provided a unique opportunity for homeowners to create a stream of income through their property. Prior experience with owning or renting real estate is not a requirement to list a home on AirBnb. As such, it is up to the discretion of the AirBnB lister to determine the daily price to charge. Listing a home for too high of a price could result in low demand and listing a price for too low could result in lost out potential income. The predictive modeling below will utilize a city’s past AirBnB listing data for the year of 2022. By utilizing this historical data, the model will predict prices for the 2023 calendar year based on attribute of the AirBnB owner’s home."
   ]
  },
  {
   "cell_type": "markdown",
   "id": "d7672083",
   "metadata": {},
   "source": [
    "## Data Understanding"
   ]
  },
  {
   "cell_type": "markdown",
   "id": "941af53a",
   "metadata": {},
   "source": [
    "**[The data](http://insideairbnb.com/get-the-data/)** set comes from Inside AirBnB, a data sharing site devoted to collecting data on dozens of cities and countries around the world. There are two data sets for each city – a detailed calendar data set and a listings data set. Within the calendar data, there is 365 rows for each AirBnB listing, represent each day of the year and the price and other information. The breakdown of each city and the respective datasets is below:\n",
    "\n",
    "-\t**Asheville:**\n",
    "    - Calendar Data:\n",
    "        - 958,490 rows\n",
    "        - 7 columns\n",
    "    - Listings Data:\n",
    "        - 2,626 rows\n",
    "        - 74 columns\n",
    "-\t**Nashville:**\n",
    "    - Calendar Data:\n",
    "        - 2,320,689 rows\n",
    "        - 7 columns\n",
    "    - Listings Data:\n",
    "        - 6,359 rows\n",
    "        - 74 columns\n",
    "-\t**Austin:**\n",
    "    - Calendar Data:\n",
    "        - 4,369,416 rows\n",
    "        - 7 columns\n",
    "    - Listings Data:\n",
    "        - 11,971 rows\n",
    "        - 74 columns"
   ]
  },
  {
   "cell_type": "markdown",
   "id": "815b336a",
   "metadata": {},
   "source": [
    "## Exploratory Data Analysis (EDA)"
   ]
  },
  {
   "cell_type": "markdown",
   "id": "8b3e926e",
   "metadata": {},
   "source": [
    "**Calendar Data:**\n",
    "The first data set utilized, the 'calendar data' has seven columns, outlined below. The data set contains 365 rows for each AirBnB. The earliest date is 12/15/2021 and the latest is 12/17/2022. The main steps of EDA performed on the calendar data set were:\n",
    "\n",
    " - 1) Converting the date column to date-time\n",
    " - 2) Converting the columns with 'object' types of 't' and 'f' to binary (0, 1) values\n",
    " - 3) Removing NaN values\n",
    " - 4) Removing 'available', 'minimum nights', and 'maximum nights' columns as these will be irrelevant from the stakeholder's perspective\n",
    " \n",
    "As shown below, after performing these steps the data set was left with three columns (listing_id, daily_price, date) and 958,489 rows."
   ]
  },
  {
   "cell_type": "code",
   "execution_count": 3,
   "id": "7e641b16",
   "metadata": {},
   "outputs": [
    {
     "name": "stdout",
     "output_type": "stream",
     "text": [
      "<class 'pandas.core.frame.DataFrame'>\n",
      "RangeIndex: 958490 entries, 0 to 958489\n",
      "Data columns (total 7 columns):\n",
      " #   Column          Non-Null Count   Dtype \n",
      "---  ------          --------------   ----- \n",
      " 0   listing_id      958490 non-null  int64 \n",
      " 1   date            958490 non-null  object\n",
      " 2   available       958490 non-null  object\n",
      " 3   price           958319 non-null  object\n",
      " 4   adjusted_price  958319 non-null  object\n",
      " 5   minimum_nights  958490 non-null  int64 \n",
      " 6   maximum_nights  958490 non-null  int64 \n",
      "dtypes: int64(3), object(4)\n",
      "memory usage: 51.2+ MB\n"
     ]
    }
   ],
   "source": [
    "raw_asheville_calendar_data = pd.read_pickle('../Supplements/Pickles/raw_asheville_calendar_data.pickle')\n",
    "raw_asheville_calendar_data.info()"
   ]
  },
  {
   "cell_type": "code",
   "execution_count": 4,
   "id": "cf1b4fbf",
   "metadata": {},
   "outputs": [
    {
     "name": "stdout",
     "output_type": "stream",
     "text": [
      "Earliest date of data set 2021-12-15\n",
      "Latest date of data set 2022-12-17\n"
     ]
    }
   ],
   "source": [
    "print(f\"Earliest date of data set {raw_asheville_calendar_data['date'].min()}\")\n",
    "print(f\"Latest date of data set {raw_asheville_calendar_data['date'].max()}\")"
   ]
  },
  {
   "cell_type": "code",
   "execution_count": 5,
   "id": "bbda4ffc",
   "metadata": {},
   "outputs": [
    {
     "name": "stdout",
     "output_type": "stream",
     "text": [
      "<class 'pandas.core.frame.DataFrame'>\n",
      "Int64Index: 958125 entries, 0 to 958489\n",
      "Data columns (total 3 columns):\n",
      " #   Column       Non-Null Count   Dtype         \n",
      "---  ------       --------------   -----         \n",
      " 0   listing_id   958125 non-null  int64         \n",
      " 1   daily_price  958125 non-null  int64         \n",
      " 2   date         958125 non-null  datetime64[ns]\n",
      "dtypes: datetime64[ns](1), int64(2)\n",
      "memory usage: 29.2 MB\n"
     ]
    }
   ],
   "source": [
    "pd.read_pickle('../Supplements/Pickles/mod_asheville_calendar_data.pickle').info()"
   ]
  },
  {
   "cell_type": "markdown",
   "id": "1aa3d5fc",
   "metadata": {},
   "source": [
    "**Listings Data:** The second data set utilized, the 'listings data' has 74 columns, outlined below. The data set contains one row for each AirBnB totaling 2,626 rows. The earliest date is 12/15/2022 and the latest is 12/17/2023. The main steps of EDA performed on the calendar data set were:\n",
    "\n",
    " - 1) Removing columns which will be irrelevant to the stakeholder, including:\n",
    "    - a) All columns related to rating\n",
    "    - b) Most columns related to the host including name, picture, response time, etc. with the exception of whether or not the host is a superhost\n",
    "    - c) Columns related to scraping, the minimum/maximum nights, availability and price as the daily price from the calendar data set will be utilized\n",
    " - 2) Filling in any missing neighborhood data with the most common neighborhood which was typically just the city name (Asheville, Nashville, and Austin)\n",
    " - 3) Dropping neighborhoods which do not fall into the top 5 by count\n",
    " - 4) Removing any NaNs values from columns such as bedrooms, beds, and bathrooms\n",
    "\n",
    "As shown below, after performing these steps the data set was left with 28 columns and 2,269 rows."
   ]
  },
  {
   "cell_type": "code",
   "execution_count": 6,
   "id": "d2eef1c3",
   "metadata": {},
   "outputs": [
    {
     "name": "stdout",
     "output_type": "stream",
     "text": [
      "<class 'pandas.core.frame.DataFrame'>\n",
      "RangeIndex: 2626 entries, 0 to 2625\n",
      "Data columns (total 74 columns):\n",
      " #   Column                                        Non-Null Count  Dtype  \n",
      "---  ------                                        --------------  -----  \n",
      " 0   id                                            2626 non-null   int64  \n",
      " 1   listing_url                                   2626 non-null   object \n",
      " 2   scrape_id                                     2626 non-null   int64  \n",
      " 3   last_scraped                                  2626 non-null   object \n",
      " 4   name                                          2626 non-null   object \n",
      " 5   description                                   2621 non-null   object \n",
      " 6   neighborhood_overview                         2040 non-null   object \n",
      " 7   picture_url                                   2626 non-null   object \n",
      " 8   host_id                                       2626 non-null   int64  \n",
      " 9   host_url                                      2626 non-null   object \n",
      " 10  host_name                                     2626 non-null   object \n",
      " 11  host_since                                    2626 non-null   object \n",
      " 12  host_location                                 2622 non-null   object \n",
      " 13  host_about                                    1744 non-null   object \n",
      " 14  host_response_time                            2165 non-null   object \n",
      " 15  host_response_rate                            2165 non-null   object \n",
      " 16  host_acceptance_rate                          2249 non-null   object \n",
      " 17  host_is_superhost                             2626 non-null   object \n",
      " 18  host_thumbnail_url                            2626 non-null   object \n",
      " 19  host_picture_url                              2626 non-null   object \n",
      " 20  host_neighbourhood                            658 non-null    object \n",
      " 21  host_listings_count                           2626 non-null   int64  \n",
      " 22  host_total_listings_count                     2626 non-null   int64  \n",
      " 23  host_verifications                            2626 non-null   object \n",
      " 24  host_has_profile_pic                          2626 non-null   object \n",
      " 25  host_identity_verified                        2626 non-null   object \n",
      " 26  neighbourhood                                 2041 non-null   object \n",
      " 27  neighbourhood_cleansed                        2626 non-null   int64  \n",
      " 28  neighbourhood_group_cleansed                  0 non-null      float64\n",
      " 29  latitude                                      2626 non-null   float64\n",
      " 30  longitude                                     2626 non-null   float64\n",
      " 31  property_type                                 2626 non-null   object \n",
      " 32  room_type                                     2626 non-null   object \n",
      " 33  accommodates                                  2626 non-null   int64  \n",
      " 34  bathrooms                                     0 non-null      float64\n",
      " 35  bathrooms_text                                2625 non-null   object \n",
      " 36  bedrooms                                      2463 non-null   float64\n",
      " 37  beds                                          2558 non-null   float64\n",
      " 38  amenities                                     2626 non-null   object \n",
      " 39  price                                         2626 non-null   object \n",
      " 40  minimum_nights                                2626 non-null   int64  \n",
      " 41  maximum_nights                                2626 non-null   int64  \n",
      " 42  minimum_minimum_nights                        2626 non-null   int64  \n",
      " 43  maximum_minimum_nights                        2626 non-null   int64  \n",
      " 44  minimum_maximum_nights                        2626 non-null   int64  \n",
      " 45  maximum_maximum_nights                        2626 non-null   int64  \n",
      " 46  minimum_nights_avg_ntm                        2626 non-null   float64\n",
      " 47  maximum_nights_avg_ntm                        2626 non-null   float64\n",
      " 48  calendar_updated                              0 non-null      float64\n",
      " 49  has_availability                              2626 non-null   object \n",
      " 50  availability_30                               2626 non-null   int64  \n",
      " 51  availability_60                               2626 non-null   int64  \n",
      " 52  availability_90                               2626 non-null   int64  \n",
      " 53  availability_365                              2626 non-null   int64  \n",
      " 54  calendar_last_scraped                         2626 non-null   object \n",
      " 55  number_of_reviews                             2626 non-null   int64  \n",
      " 56  number_of_reviews_ltm                         2626 non-null   int64  \n",
      " 57  number_of_reviews_l30d                        2626 non-null   int64  \n",
      " 58  first_review                                  2487 non-null   object \n",
      " 59  last_review                                   2487 non-null   object \n",
      " 60  review_scores_rating                          2487 non-null   float64\n",
      " 61  review_scores_accuracy                        2485 non-null   float64\n",
      " 62  review_scores_cleanliness                     2485 non-null   float64\n",
      " 63  review_scores_checkin                         2485 non-null   float64\n",
      " 64  review_scores_communication                   2485 non-null   float64\n",
      " 65  review_scores_location                        2485 non-null   float64\n",
      " 66  review_scores_value                           2485 non-null   float64\n",
      " 67  license                                       0 non-null      float64\n",
      " 68  instant_bookable                              2626 non-null   object \n",
      " 69  calculated_host_listings_count                2626 non-null   int64  \n",
      " 70  calculated_host_listings_count_entire_homes   2626 non-null   int64  \n",
      " 71  calculated_host_listings_count_private_rooms  2626 non-null   int64  \n",
      " 72  calculated_host_listings_count_shared_rooms   2626 non-null   int64  \n",
      " 73  reviews_per_month                             2487 non-null   float64\n",
      "dtypes: float64(18), int64(24), object(32)\n",
      "memory usage: 1.5+ MB\n"
     ]
    }
   ],
   "source": [
    "pd.read_pickle('../Supplements/Pickles/raw_asheville_listings_data.pickle').info()"
   ]
  },
  {
   "cell_type": "code",
   "execution_count": 7,
   "id": "edb1b1ef",
   "metadata": {},
   "outputs": [
    {
     "name": "stdout",
     "output_type": "stream",
     "text": [
      "<class 'pandas.core.frame.DataFrame'>\n",
      "Int64Index: 2269 entries, 0 to 2618\n",
      "Data columns (total 28 columns):\n",
      " #   Column                  Non-Null Count  Dtype  \n",
      "---  ------                  --------------  -----  \n",
      " 0   listing_id              2269 non-null   int64  \n",
      " 1   listing_url             2269 non-null   object \n",
      " 2   name                    2269 non-null   object \n",
      " 3   picture_url             2269 non-null   object \n",
      " 4   host_id                 2269 non-null   int64  \n",
      " 5   host_url                2269 non-null   object \n",
      " 6   host_is_superhost       2269 non-null   int64  \n",
      " 7   host_identity_verified  2269 non-null   int64  \n",
      " 8   latitude                2269 non-null   float64\n",
      " 9   longitude               2269 non-null   float64\n",
      " 10  room_type               2269 non-null   object \n",
      " 11  accommodates            2269 non-null   int64  \n",
      " 12  bedrooms                2269 non-null   float64\n",
      " 13  beds                    2269 non-null   float64\n",
      " 14  minimum_nights          2269 non-null   int64  \n",
      " 15  maximum_nights          2269 non-null   int64  \n",
      " 16  number_of_reviews       2269 non-null   int64  \n",
      " 17  review_scores_rating    2269 non-null   float64\n",
      " 18  instant_bookable        2269 non-null   int64  \n",
      " 19  neighborhood            2269 non-null   object \n",
      " 20  bathrooms               2269 non-null   float64\n",
      " 21  Air conditioning        2269 non-null   int64  \n",
      " 22  Wifi                    2269 non-null   int64  \n",
      " 23  TV                      2269 non-null   int64  \n",
      " 24  Kitchen                 2269 non-null   int64  \n",
      " 25  Washer                  2269 non-null   int64  \n",
      " 26  Dryer                   2269 non-null   int64  \n",
      " 27  Heating                 2269 non-null   int64  \n",
      "dtypes: float64(6), int64(16), object(6)\n",
      "memory usage: 514.1+ KB\n"
     ]
    }
   ],
   "source": [
    "pd.read_pickle('../Supplements/Pickles/mod_asheville_listing_data.pickle').info()"
   ]
  },
  {
   "cell_type": "markdown",
   "id": "eee682e0",
   "metadata": {},
   "source": [
    "**Combined Data:**\n",
    "After performing the above EDA steps on each of the data sets, the data sets were combined based on the AirBnB listing id. Once the data was combined, outliers were dropped with the following criteria:\n",
    " - 1) Only including bathrooms which are between 1 and 5\n",
    " - 2) Only including bedrooms which are less than or equal to 6 and beds which are less than or equal to 11\n",
    " - 3) Excluding hotel rooms and shared rooms therefor only including entire home/apt and private room AirBnBs\n",
    " - 4) Limiting daily prices which are less than or equal to $1,000"
   ]
  },
  {
   "cell_type": "markdown",
   "id": "e12aa322",
   "metadata": {},
   "source": [
    "**Adding Distance Analysis:**\n",
    "In addition to the information provided by the data sets, location is another very important metric when determining an AirBnBs price. As such, below is an example of code utilized to determine the distance between a given AirBnB and popular tourist attractions (in the below Asheville case it is the Biltmore and downtown Asheville). By including this code, we are able to add two additional columns which show the distance in miles from an AirBnB to a tourist attraction and ultimately determine if this has a strong impact on predicting price."
   ]
  },
  {
   "cell_type": "markdown",
   "id": "ed1fdcf0",
   "metadata": {},
   "source": [
    "```python\n",
    "#Zip the latitude and longitude columns to a new column called 'coords'\n",
    "asheville_data['coords'] = list(zip(asheville_data['latitude'],asheville_data['longitude']))\n",
    "\n",
    "#Create variables for popular tourist attractions\n",
    "biltmore = (35.54108101423884, -82.55210010496437) \n",
    "downtown = (35.60405939066325, -82.54533225431588)\n",
    "\n",
    "#Calculate the distance in miles from the airbnb coords to the tourist attractions\n",
    "for idx, coords in enumerate(asheville_data['coords']):\n",
    "        asheville_data.loc[idx,'distance_to_biltmore'] = geodesic(coords, biltmore).miles\n",
    "        asheville_data.loc[idx,'distance_to_downtown'] = geodesic(coords, downtown).miles\n",
    "    \n",
    "```"
   ]
  },
  {
   "cell_type": "markdown",
   "id": "a1081399",
   "metadata": {},
   "source": [
    "**Example AirBnB:**\n",
    "The below figure is a plot of a single Asheville AirBnB and 365 point of daily price data. As shown below, it is clear that there is a seasonal pattern related to price in Asheville with January through April trending between 90-110 dollars per night and between May and December trending between 115 - 120 dollars per night."
   ]
  },
  {
   "cell_type": "code",
   "execution_count": 8,
   "id": "b5c0ca09",
   "metadata": {},
   "outputs": [
    {
     "data": {
      "image/png": "[encoded data removed]",
      "text/plain": [
       "<Figure size 2000x1200 with 1 Axes>"
      ]
     },
     "metadata": {},
     "output_type": "display_data"
    }
   ],
   "source": [
    "asheville_data = pd.read_pickle('../Supplements/Pickles/asheville_data.pickle')\n",
    "graphing_one_bnb = asheville_data[366:650]\n",
    "y_graphing_one_bnb = graphing_one_bnb['daily_price']\n",
    "x_graphing_one_bnb = graphing_one_bnb['date']\n",
    "\n",
    "fig, ax = plt.subplots(1, 1, figsize=(20, 12))\n",
    "ax.plot(x_graphing_one_bnb, y_graphing_one_bnb)\n",
    "plt.show()"
   ]
  },
  {
   "cell_type": "markdown",
   "id": "1d347989",
   "metadata": {},
   "source": [
    "## Modeling"
   ]
  },
  {
   "cell_type": "markdown",
   "id": "f1b266c6",
   "metadata": {},
   "source": [
    "The data set utilized for the below models is the combined, cleaned Calendar and Listings data sets. To efficiently predict the AirBnB’s price, we will utilize Neural Network models, Random Forest Regressor modes, and an XGBoost model."
   ]
  },
  {
   "cell_type": "markdown",
   "id": "0f783031",
   "metadata": {},
   "source": [
    "### Baseline Model"
   ]
  },
  {
   "cell_type": "markdown",
   "id": "20230341",
   "metadata": {},
   "source": [
    "For the baseline model, we will utilize a simple Sequential neural-network model with two Dense layers, a flatten, and a dropout layer. "
   ]
  },
  {
   "cell_type": "markdown",
   "id": "74289345",
   "metadata": {},
   "source": [
    "```python\n",
    "\n",
    "#One hot encode the categorical columns\n",
    "baseline_model_sklearn = asheville_modeling_data\n",
    "baseline_model_cat = baseline_model_sklearn[['neighborhood', 'room_type', 'day_of_week', 'month', 'week']]\n",
    "\n",
    "ohe = OneHotEncoder(drop = 'first', sparse = False)\n",
    "ohe.fit(baseline_model_cat)\n",
    "\n",
    "baseline_model_cat_ohe = pd.DataFrame(data = ohe.transform(baseline_model_cat),\n",
    "                                      columns = ohe.get_feature_names_out())\n",
    "\n",
    "#Create a data frame of numeric columns\n",
    "baseline_model_numeric = asheville_modeling_data[['listing_id', 'daily_price', 'host_is_superhost', 'accommodates', \n",
    "                                                  'bedrooms', 'beds', 'bathrooms', 'Air conditioning', 'Wifi', 'TV', \n",
    "                                                  'Kitchen', 'Washer', 'Dryer', 'Heating', 'week']]\n",
    "\n",
    "#Merge the one hot encoded dataframe and the numeric columns\n",
    "baseline_model_comb_ohe = baseline_model_numeric.join(baseline_model_cat_ohe, how = 'left')\n",
    "\n",
    "#Create a baseline X and y variable\n",
    "baseline_model_X = baseline_model_comb_ohe.drop(['daily_price', 'listing_id'], axis = 1)\n",
    "baseline_model_y = baseline_model_comb_ohe['daily_price']\n",
    "\n",
    "#Split the data set to train and test\n",
    "baseline_model_X_train, baseline_model_X_test, baseline_model_y_train, baseline_model_y_test = train_test_split(\n",
    "                                                                                                baseline_model_X, \n",
    "                                                                                                baseline_model_y, \n",
    "                                                                                                test_size = 0.18)\n",
    "#Further split the data to a validation set\n",
    "baseline_model_X_train, baseline_model_X_val, baseline_model_y_train, baseline_model_y_val = train_test_split(\n",
    "                                                                                                baseline_model_X_train, \n",
    "                                                                                                baseline_model_y_train,\n",
    "                                                                                                test_size = 0.12)\n",
    "\n",
    "#Instantiate a new scaler and scale/transform the data\n",
    "scaler = StandardScaler()\n",
    "baseline_model_X_train_scaled = scaler.fit_transform(baseline_model_X_train)\n",
    "baseline_model_X_test_scaled = scaler.transform(baseline_model_X_test)\n",
    "baseline_model_X_val_scaled = scaler.transform(baseline_model_X_val)\n",
    "\n",
    "#Instantiate a Regularizer\n",
    "reg = l2(3e-3)\n",
    "\n",
    "#Create a sequential model, add a flatten, a dense layer, followed by a dropout and another dense layer\n",
    "baseline_model_nn = models.Sequential()\n",
    "baseline_model_nn.add(layers.Flatten())\n",
    "baseline_model_nn.add(layers.Dense(16, activation = 'relu', input_shape=(34, 1), kernel_regularizer = reg))\n",
    "baseline_model_nn.add(layers.Dropout(0.5))\n",
    "baseline_model_nn.add(layers.Dense(1))\n",
    "\n",
    "\n",
    "#Create an opt variable which is set to the learning rate to be used, we will use 0.0002\n",
    "opt = Adam(learning_rate = 0.0001)\n",
    "\n",
    "#Add an early stopping mechanism which will stop fitting the model based on the minimum validation loss, a minimum\n",
    "    #delta of 0.05, and a patience of 10\n",
    "es = EarlyStopping(monitor = 'mae', mode = 'min', min_delta = 0.05, patience = 10)\n",
    "\n",
    "#Set the random seed to 42 for reproducibility\n",
    "np.random.seed(42)\n",
    "\n",
    "#Compile the model and utilize the 'opt' variable, \n",
    "baseline_model_nn.compile(optimizer = opt,\n",
    "                  loss = 'mae',\n",
    "                  metrics = ['mse', 'mae'])\n",
    "\n",
    "#Create a new _histoire variable containing the fit model\n",
    "baseline_model_nn_histoire = baseline_model_nn.fit(baseline_model_X_train_scaled,\n",
    "                                                   baseline_model_y_train.values,\n",
    "                                                   callbacks = [es],\n",
    "                                                   epochs = 50,\n",
    "                                                   batch_size = 1000,\n",
    "                                                   validation_data = (baseline_model_X_val_scaled, \n",
    "                                                                      baseline_model_y_val.values))\n",
    "\n",
    "```"
   ]
  },
  {
   "cell_type": "markdown",
   "id": "95e70337",
   "metadata": {},
   "source": [
    "![Baseline](../Images/Asheville_Baseline_Model_Training_and_Validation_Loss.jpeg)"
   ]
  },
  {
   "cell_type": "markdown",
   "id": "430dd75c",
   "metadata": {},
   "source": [
    "As shown below, while the model is not overfitting, it is clearly underperforming. A test MAE of $71 is too high relative to the average daily price. "
   ]
  },
  {
   "cell_type": "code",
   "execution_count": 9,
   "id": "608c5284",
   "metadata": {},
   "outputs": [
    {
     "name": "stdout",
     "output_type": "stream",
     "text": [
      "Baseline Asheville Model Train MAE w/ Preds $71.37140674246625\n",
      "Baseline Asheville Model Test MAE w/ Preds $71.6572064640082\n",
      "\n",
      "\n",
      "Baseline Asheville Model Train Explained Variance 0.4218564817006428\n",
      "Baseline Asheville Model Test Explained Variance 0.4189322294050132\n"
     ]
    }
   ],
   "source": [
    "baseline_asheville_model_train_MAE = pd.read_pickle('../Supplements/Pickles/baseline_asheville_model_train_MAE.pickle')\n",
    "print(f'Baseline Asheville Model Train MAE w/ Preds ${baseline_asheville_model_train_MAE}')\n",
    "\n",
    "baseline_asheville_model_test_MAE = pd.read_pickle('../Supplements/Pickles/baseline_asheville_model_test_MAE.pickle')\n",
    "print(f'Baseline Asheville Model Test MAE w/ Preds ${baseline_asheville_model_test_MAE}')\n",
    "print(f'\\n')\n",
    "baseline_asheville_model_train_explained_var = pd.read_pickle('../Supplements/Pickles/baseline_asheville_model_train_explained_var.pickle')\n",
    "print(f'Baseline Asheville Model Train Explained Variance {baseline_asheville_model_train_explained_var}')\n",
    "\n",
    "baseline_asheville_model_test_explained_var = pd.read_pickle('../Supplements/Pickles/baseline_asheville_model_test_explained_var.pickle')\n",
    "print(f'Baseline Asheville Model Test Explained Variance {baseline_asheville_model_test_explained_var}')"
   ]
  },
  {
   "cell_type": "markdown",
   "id": "572618da",
   "metadata": {},
   "source": [
    "### Model 2"
   ]
  },
  {
   "cell_type": "markdown",
   "id": "b32a95cc",
   "metadata": {},
   "source": [
    "Given the underperformance of the baseline model, the second model will be a neural network model but will have more complexity. Rather than just two Dense layers, a flatten, and a dropout layer, the second model will have two Convolutional 1D layers, two Maxpooling 1D layers, and two Batch Normalization layers."
   ]
  },
  {
   "cell_type": "markdown",
   "id": "f8d6fe29",
   "metadata": {},
   "source": [
    "```python\n",
    "#One hot encode the categorical columns\n",
    "model2_sklearn = asheville_modeling_data\n",
    "model2_cat = model2_sklearn[['neighborhood', 'room_type', 'day_of_week', 'month', 'week']]\n",
    "\n",
    "ohe = OneHotEncoder(drop = 'first', sparse=False)\n",
    "ohe.fit(model2_cat)\n",
    "\n",
    "model2_cat_ohe = pd.DataFrame(data = ohe.transform(model2_cat),\n",
    "                              columns = ohe.get_feature_names_out())\n",
    "\n",
    "#Merge the one hot encoded dataframe and the numeric columns\n",
    "model2_numeric = asheville_modeling_data[['daily_price', 'host_is_superhost', 'accommodates', 'bedrooms', 'beds', \n",
    "                                          'bathrooms', 'Air conditioning', 'Wifi', 'TV', 'Kitchen', 'Washer', \n",
    "                                          'Dryer', 'Heating', 'distance_to_biltmore', 'distance_to_downtown']]\n",
    "\n",
    "model2_comb_ohe = model2_numeric.join(model2_cat_ohe, how = 'left')\n",
    "\n",
    "#Begin modeling - set X and y variables\n",
    "model2_X = model2_comb_ohe.drop(['daily_price'], axis = 1)\n",
    "model2_y = model2_comb_ohe['daily_price']\n",
    "\n",
    "model2_X_train, model2_X_test, model2_y_train, model2_y_test = train_test_split(model2_X, \n",
    "                                                                                model2_y, \n",
    "                                                                                test_size = 0.18)\n",
    "\n",
    "model2_X_train, model2_X_val, model2_y_train, model2_y_val = train_test_split(model2_X_train, \n",
    "                                                                              model2_y_train,\n",
    "                                                                              test_size = 0.12)\n",
    "\n",
    "#Instantiate a new scaler\n",
    "scaler = StandardScaler()\n",
    "\n",
    "#Scale all columns\n",
    "model2_X_train_scaled = scaler.fit_transform(model2_X_train)\n",
    "model2_X_test_scaled = scaler.transform(model2_X_test)\n",
    "model2_X_val_scaled = scaler.transform(model2_X_val)\n",
    "\n",
    "#Instantiate a Regularizer\n",
    "reg = l2(3e-3)\n",
    "\n",
    "#Begin a new Sequential Model, add several convolutional 1D layers, flatten and dense layers\n",
    "model2_nn = models.Sequential()\n",
    "model2_nn.add(layers.Conv1D(filters = 50, kernel_size = 3, activation = 'relu', padding = 'causal', \n",
    "                            input_shape = (model2_X_train_scaled.shape[1], 1)))\n",
    "model2_nn.add(layers.MaxPooling1D(pool_size = 2))\n",
    "model2_nn.add(layers.Dropout(0.5))\n",
    "model2_nn.add(layers.BatchNormalization())\n",
    "model2_nn.add(layers.Conv1D(filters = 25, kernel_size = 3, activation = 'relu', padding = 'causal', \n",
    "                            input_shape = (model2_X_train_scaled.shape[1], 1)))\n",
    "model2_nn.add(layers.MaxPooling1D(pool_size = 2))\n",
    "model2_nn.add(layers.BatchNormalization())\n",
    "model2_nn.add(layers.Dropout(0.4))\n",
    "model2_nn.add(layers.Flatten())\n",
    "model2_nn.add(layers.Dense(16, activation='relu', input_shape=(34, 1), kernel_regularizer = reg))\n",
    "model2_nn.add(layers.Dense(8, activation='relu', input_shape=(34, 1), kernel_regularizer = reg))\n",
    "model2_nn.add(layers.Dense(1))\n",
    "\n",
    "#Create an opt variable which is set to the learning rate to be used, we will use 0.0002\n",
    "opt = Adam(learning_rate = 0.0001)\n",
    "\n",
    "#Add an early stopping mechanism which will stop fitting the model based on the minimum validation loss, a minimum\n",
    "    #delta of 0.05, and a patience of 10\n",
    "es = EarlyStopping(monitor = 'mae', mode = 'min', min_delta = 0.001, patience = 10)\n",
    "\n",
    "#Set the random seed to 42 for reproducibility\n",
    "np.random.seed(42)\n",
    "\n",
    "#Compile the model and utilize the 'opt' variable, \n",
    "model2_nn.compile(optimizer = opt,\n",
    "                  loss = 'mae',\n",
    "                  metrics = ['mse', 'mae'])\n",
    "\n",
    "#Create a new _histoire variable containing the fit model\n",
    "model2_nn_histoire = model2_nn.fit(model2_X_train_scaled,\n",
    "                                   model2_y_train.values,\n",
    "                                   callbacks = [es],\n",
    "                                   epochs = 120,\n",
    "                                   batch_size = 1000,\n",
    "                                   validation_data = (model2_X_val_scaled, model2_y_val.values))\n",
    "\n",
    "```"
   ]
  },
  {
   "cell_type": "markdown",
   "id": "0eb0ab31",
   "metadata": {},
   "source": [
    "![Model 2](../Images/Asheville_Model_2_Training_and_Validation_Loss.jpeg)"
   ]
  },
  {
   "cell_type": "markdown",
   "id": "70d62f99",
   "metadata": {},
   "source": [
    "As shown below, the model is performing slightly better than the baseline model with a test MAE of $53. While there is improvement, the model is still underperforming with an MAE too high relative to the average daily price. Going forward, we will utilize other model types for the balance of the models."
   ]
  },
  {
   "cell_type": "code",
   "execution_count": 10,
   "id": "5c36dda8",
   "metadata": {},
   "outputs": [
    {
     "name": "stdout",
     "output_type": "stream",
     "text": [
      "Model 2 Asheville Train MAE w/ Preds $53.279128821136695\n",
      "Model 2 Asheville Test MAE w/ Preds $53.31253278087411\n",
      "\n",
      "\n",
      "Mode 2 Asheville Train Explained Variance 0.6306236816394573\n",
      "Model 2 Asheville Test Explained Variance 0.628000933629805\n"
     ]
    }
   ],
   "source": [
    "model2_asheville_train_MAE = pd.read_pickle('../Supplements/Pickles/model2_asheville_train_MAE.pickle')\n",
    "print(f'Model 2 Asheville Train MAE w/ Preds ${model2_asheville_train_MAE}')\n",
    "\n",
    "model2_asheville_test_MAE = pd.read_pickle('../Supplements/Pickles/model2_asheville_test_MAE.pickle')\n",
    "print(f'Model 2 Asheville Test MAE w/ Preds ${model2_asheville_test_MAE}')\n",
    "print(f'\\n')\n",
    "model2_asheville_train_explained_var = pd.read_pickle('../Supplements/Pickles/model2_asheville_train_explained_var.pickle')\n",
    "print(f'Mode 2 Asheville Train Explained Variance {model2_asheville_train_explained_var}')\n",
    "\n",
    "model2_asheville_test_explained_var = pd.read_pickle('../Supplements/Pickles/model2_asheville_test_explained_var.pickle')\n",
    "print(f'Model 2 Asheville Test Explained Variance {model2_asheville_test_explained_var}')"
   ]
  },
  {
   "cell_type": "markdown",
   "id": "c1bf9fec",
   "metadata": {},
   "source": [
    "### Model 3"
   ]
  },
  {
   "cell_type": "markdown",
   "id": "47d543fc",
   "metadata": {},
   "source": [
    "As previously mentioned, given the underperformance of the neural network models, we will utilize a simple Random Forest Regressor model for the third model. As shown in the code below, we will one hot encode the neighborhood, room type, day of week, month, and week columns and we will scale the balance of the variables."
   ]
  },
  {
   "cell_type": "markdown",
   "id": "57efb8ef",
   "metadata": {},
   "source": [
    "```python\n",
    "#Create a model 3 X and y variable \n",
    "model3_X = asheville_modeling_data.drop(['daily_price', 'listing_id'], axis = 1)\n",
    "model3_y = asheville_modeling_data['daily_price']\n",
    "\n",
    "#Train, test, split the X and y variables\n",
    "model3_X_train, model3_X_test, model3_y_train, model3_y_test = train_test_split(model3_X, \n",
    "                                                                                model3_y, \n",
    "                                                                                test_size = 0.2)\n",
    "\n",
    "#Create a list of numeric columns\n",
    "model3_numeric_cols = ['host_is_superhost', 'accommodates', 'bedrooms', 'beds', 'bathrooms', \n",
    "                       'Air conditioning', 'Wifi', 'TV', 'Kitchen', 'Washer', 'Dryer', 'Heating',\n",
    "                       'distance_to_biltmore', 'distance_to_downtown']\n",
    "\n",
    "#Create a list of nominal columns\n",
    "model3_nominal_cols = ['neighborhood', 'room_type', 'day_of_week', 'month', 'week']\n",
    "\n",
    "#Scale the numeric columns\n",
    "model3_numeric_pipeline = Pipeline([('scaler', StandardScaler())])\n",
    "\n",
    "#One hot encode the nominal columns\n",
    "model3_nominal_pipeline = Pipeline([('ohe', OneHotEncoder(sparse = False))])\n",
    "\n",
    "#Column tranform the two pipelines\n",
    "ct = ColumnTransformer([('nominalpipe', model3_nominal_pipeline, model3_nominal_cols ),\n",
    "                        ('numpipe', model3_numeric_pipeline, model3_numeric_cols)])\n",
    "\n",
    "#Create a final pipeline with the column transformer and random forest regressor model\n",
    "model3_final_pipe = Pipeline([('preprocess', ct),\n",
    "                              ('model', RandomForestRegressor())])\n",
    "\n",
    "model3_results = model3_final_pipe.fit(model3_X_train, model3_y_train)\n",
    "```"
   ]
  },
  {
   "cell_type": "markdown",
   "id": "c47704d0",
   "metadata": {},
   "source": [
    "As shown below, this third model is performing significantly better than the the two previous Neural Network models. With a test MAE of $5 this model could be deemed the 'final' model. However, given the simplicity of the model we will continue to hyperparameter tune this model and try an additional model type."
   ]
  },
  {
   "cell_type": "code",
   "execution_count": 11,
   "id": "f60ecbc5",
   "metadata": {},
   "outputs": [
    {
     "name": "stdout",
     "output_type": "stream",
     "text": [
      "Model 3 Asheville Train Accuracy 0.9967910137538337\n",
      "Model 3 Asheville Train MSE $7.900805978052868\n",
      "Model 3 Asheville Train MAE $1.8862425369671523\n",
      "\n",
      "\n",
      "Mode 3 Asheville Test Accuracy 0.9814995478845249\n",
      "Model 3 Asheville Test MSE $18.9498915289104\n",
      "Model 3 Asheville Test MAE $4.799439960793122\n"
     ]
    }
   ],
   "source": [
    "model3_asheville_train_accuracy = pd.read_pickle('../Supplements/Pickles/model3_asheville_train_accuracy.pickle')\n",
    "print(f'Model 3 Asheville Train Accuracy {model3_asheville_train_accuracy}')\n",
    "\n",
    "model3_asheville_train_MSE = pd.read_pickle('../Supplements/Pickles/model3_asheville_train_MSE.pickle')\n",
    "print(f'Model 3 Asheville Train MSE ${model3_asheville_train_MSE}')\n",
    "\n",
    "model3_asheville_train_MAE = pd.read_pickle('../Supplements/Pickles/model3_asheville_train_MAE.pickle')\n",
    "print(f'Model 3 Asheville Train MAE ${model3_asheville_train_MAE}')\n",
    "print(f'\\n')\n",
    "model3_asheville_test_accuracy = pd.read_pickle('../Supplements/Pickles/model3_asheville_test_accuracy.pickle')\n",
    "print(f'Mode 3 Asheville Test Accuracy {model3_asheville_test_accuracy}')\n",
    "\n",
    "model3_asheville_test_MSE = pd.read_pickle('../Supplements/Pickles/model3_asheville_test_MSE.pickle')\n",
    "print(f'Model 3 Asheville Test MSE ${model3_asheville_test_MSE}')\n",
    "\n",
    "model3_asheville_test_MAE = pd.read_pickle('../Supplements/Pickles/model3_asheville_test_MAE.pickle')\n",
    "print(f'Model 3 Asheville Test MAE ${model3_asheville_test_MAE}')"
   ]
  },
  {
   "cell_type": "markdown",
   "id": "16bc1a22",
   "metadata": {},
   "source": [
    "![Model 3](../Images/Asheville_Model3_Preds.png)"
   ]
  },
  {
   "cell_type": "markdown",
   "id": "057f97a4",
   "metadata": {},
   "source": [
    "### Model 4"
   ]
  },
  {
   "cell_type": "markdown",
   "id": "bbc1a5c3",
   "metadata": {},
   "source": [
    "As previously mentioned, given the great performance of the simple Random Forest Regressor model, we will utilize another Random Forest Regressor model with slightly more complexity. As shown in the code below, we will set min_samples_leaf, max_depth, and min_samples_split parameters to 23."
   ]
  },
  {
   "cell_type": "markdown",
   "id": "e51dd275",
   "metadata": {},
   "source": [
    "```python\n",
    "model4_X = asheville_modeling_data.drop(['daily_price', 'listing_id'], axis = 1)\n",
    "model4_y = asheville_modeling_data['daily_price']\n",
    "\n",
    "model4_X_train, model4_X_test, model4_y_train, model4_y_test = train_test_split(model4_X, \n",
    "                                                                                model4_y, \n",
    "                                                                                test_size = 0.2)\n",
    "\n",
    "model4_numeric_cols = ['host_is_superhost', 'accommodates', 'bedrooms', 'beds', 'bathrooms', \n",
    "                       'Air conditioning', 'Wifi', 'TV', 'Kitchen', 'Washer', 'Dryer', 'Heating',\n",
    "                       'distance_to_biltmore', 'distance_to_downtown']\n",
    "\n",
    "model4_nominal_cols = ['neighborhood', 'room_type', 'day_of_week', 'month', 'week']\n",
    "\n",
    "model4_numeric_pipeline = Pipeline([('scaler', StandardScaler())])\n",
    "\n",
    "model4_nominal_pipeline = Pipeline([('ohe', OneHotEncoder(sparse = False))])\n",
    "\n",
    "ct = ColumnTransformer([('nominalpipe', model4_nominal_pipeline, model4_nominal_cols ),\n",
    "                        ('numpipe', model4_numeric_pipeline, model4_numeric_cols)])\n",
    "\n",
    "model4_final_pipe = Pipeline([('preprocess', ct),\n",
    "                              ('rf', RandomForestRegressor(min_samples_leaf = 23,\n",
    "                                                          max_depth = 23,\n",
    "                                                           min_samples_split = 23))])\n",
    "\n",
    "model4_final_pipe.fit(model4_X_train, model4_y_train)\n",
    "```"
   ]
  },
  {
   "cell_type": "markdown",
   "id": "40219c9e",
   "metadata": {},
   "source": [
    "As shown below, with some hyperparameter tuning the difference between the train MAE and MSE of about 30 cents. However, the performance of this model is worse than the simpler model with a 14 dollar test MAE with more complexity and a $5 test MAE with less complexity."
   ]
  },
  {
   "cell_type": "code",
   "execution_count": 12,
   "id": "be3d5e56",
   "metadata": {},
   "outputs": [
    {
     "name": "stdout",
     "output_type": "stream",
     "text": [
      "Model 4 Asheville Train Accuracy 0.9467273546071585\n",
      "Model 4 Asheville Train MSE $32.2032299498181\n",
      "Model 4 Asheville Train MAE $13.628075913475552\n",
      "\n",
      "\n",
      "Mode 4 Asheville Test Accuracy 0.9436166105124676\n",
      "Model 4 Asheville Test MSE $33.03306830880385\n",
      "Model 4 Asheville Test MAE $13.976587740677546\n"
     ]
    }
   ],
   "source": [
    "model4_asheville_train_accuracy = pd.read_pickle('../Supplements/Pickles/model4_asheville_train_accuracy.pickle')\n",
    "print(f'Model 4 Asheville Train Accuracy {model4_asheville_train_accuracy}')\n",
    "\n",
    "model4_asheville_train_MSE = pd.read_pickle('../Supplements/Pickles/model4_asheville_train_MSE.pickle')\n",
    "print(f'Model 4 Asheville Train MSE ${model4_asheville_train_MSE}')\n",
    "\n",
    "model4_asheville_train_MAE = pd.read_pickle('../Supplements/Pickles/model4_asheville_train_MAE.pickle')\n",
    "print(f'Model 4 Asheville Train MAE ${model4_asheville_train_MAE}')\n",
    "print(f'\\n')\n",
    "model4_asheville_test_accuracy = pd.read_pickle('../Supplements/Pickles/model4_asheville_test_accuracy.pickle')\n",
    "print(f'Mode 4 Asheville Test Accuracy {model4_asheville_test_accuracy}')\n",
    "\n",
    "model4_asheville_test_MSE = pd.read_pickle('../Supplements/Pickles/model4_asheville_test_MSE.pickle')\n",
    "print(f'Model 4 Asheville Test MSE ${model4_asheville_test_MSE}')\n",
    "\n",
    "model4_asheville_test_MAE = pd.read_pickle('../Supplements/Pickles/model4_asheville_test_MAE.pickle')\n",
    "print(f'Model 4 Asheville Test MAE ${model4_asheville_test_MAE}')"
   ]
  },
  {
   "cell_type": "markdown",
   "id": "66ae672b",
   "metadata": {},
   "source": [
    "![Model 4](../Images/Asheville_Model4_Preds.png)"
   ]
  },
  {
   "cell_type": "markdown",
   "id": "98d5f3b2",
   "metadata": {},
   "source": [
    "### Model 5"
   ]
  },
  {
   "cell_type": "markdown",
   "id": "0886044f",
   "metadata": {},
   "source": [
    "Given the high performances of the Random Forest Regressor models, we will try one additional model, an XGBoost model. The model will be relatively simple with minimal hyperparameter tuning."
   ]
  },
  {
   "cell_type": "markdown",
   "id": "70512bac",
   "metadata": {},
   "source": [
    "```python \n",
    "model5_X = asheville_modeling_data.drop(['daily_price', 'listing_id'], axis = 1)\n",
    "model5_y = asheville_modeling_data['daily_price']\n",
    "\n",
    "model5_X_train, model5_X_test, model5_y_train, model5_y_test = train_test_split(model5_X, \n",
    "                                                                                model5_y, \n",
    "                                                                                test_size = 0.2)\n",
    "\n",
    "model5_numeric_cols = ['host_is_superhost', 'accommodates', 'bedrooms', 'beds', 'bathrooms', \n",
    "                       'Air conditioning', 'Wifi', 'TV', 'Kitchen', 'Washer', 'Dryer', 'Heating',\n",
    "                       'distance_to_biltmore', 'distance_to_downtown']\n",
    "\n",
    "model5_nominal_cols = ['neighborhood', 'room_type', 'day_of_week', 'month', 'week']\n",
    "\n",
    "model5_numeric_pipeline = Pipeline([('scaler', StandardScaler())])\n",
    "\n",
    "model5_nominal_pipeline = Pipeline([('ohe', OneHotEncoder(sparse = False))])\n",
    "\n",
    "ct = ColumnTransformer([('nominalpipe', model5_nominal_pipeline, model5_nominal_cols ),\n",
    "                        ('numpipe', model5_numeric_pipeline, model5_numeric_cols)])\n",
    "\n",
    "model5_final_pipe = Pipeline([('preprocess', ct),\n",
    "                              ('xg', xgb.XGBRegressor(n_estimators = 1000, \n",
    "                                                  max_depth = 7, \n",
    "                                                  eta = 0.1, \n",
    "                                                  subsample = 0.7, \n",
    "                                                  colsample_bytree = 0.8))])\n",
    "\n",
    "model5_final_pipe.fit(model5_X_train, model5_y_train)\n",
    "```"
   ]
  },
  {
   "cell_type": "markdown",
   "id": "3eaaa041",
   "metadata": {},
   "source": [
    "As seen below, the XGBoost model performed relatively well with a test MAE of $15. Howeve the model did not outperform the simple Random Forest Regressor model with a test MAE of 5 dollars. As such, the third model will be deemed our 'final' model."
   ]
  },
  {
   "cell_type": "code",
   "execution_count": 13,
   "id": "4ad21a25",
   "metadata": {},
   "outputs": [
    {
     "name": "stdout",
     "output_type": "stream",
     "text": [
      "Model 5 Asheville Train Accuracy 0.9686992675349112\n",
      "Model 5 Asheville Train MSE $24.67797006195803\n",
      "Model 5 Asheville Train MAE $14.386571913448313\n",
      "\n",
      "\n",
      "Mode 5 Asheville Test Accuracy 0.9626238822710637\n",
      "Model 5 Asheville Test MSE $26.923611595405422\n",
      "Model 5 Asheville Test MAE $15.183784831289064\n"
     ]
    }
   ],
   "source": [
    "model5_asheville_train_accuracy = pd.read_pickle('../Supplements/Pickles/model5_asheville_train_accuracy.pickle')\n",
    "print(f'Model 5 Asheville Train Accuracy {model5_asheville_train_accuracy}')\n",
    "\n",
    "model5_asheville_train_MSE = pd.read_pickle('../Supplements/Pickles/model5_asheville_train_MSE.pickle')\n",
    "print(f'Model 5 Asheville Train MSE ${model5_asheville_train_MSE}')\n",
    "\n",
    "model5_asheville_train_MAE = pd.read_pickle('../Supplements/Pickles/model5_asheville_train_MAE.pickle')\n",
    "print(f'Model 5 Asheville Train MAE ${model5_asheville_train_MAE}')\n",
    "print(f'\\n')\n",
    "model5_asheville_test_accuracy = pd.read_pickle('../Supplements/Pickles/model5_asheville_test_accuracy.pickle')\n",
    "print(f'Mode 5 Asheville Test Accuracy {model5_asheville_test_accuracy}')\n",
    "\n",
    "model5_asheville_test_MSE = pd.read_pickle('../Supplements/Pickles/model5_asheville_test_MSE.pickle')\n",
    "print(f'Model 5 Asheville Test MSE ${model5_asheville_test_MSE}')\n",
    "\n",
    "model5_asheville_test_MAE = pd.read_pickle('../Supplements/Pickles/model5_asheville_test_MAE.pickle')\n",
    "print(f'Model 5 Asheville Test MAE ${model5_asheville_test_MAE}')"
   ]
  },
  {
   "cell_type": "markdown",
   "id": "83a87786",
   "metadata": {},
   "source": [
    "![Model 5](../Images/Asheville_Model5_Preds.png)"
   ]
  },
  {
   "cell_type": "markdown",
   "id": "ecb7fd57",
   "metadata": {},
   "source": [
    "### Final Results"
   ]
  },
  {
   "cell_type": "markdown",
   "id": "36e1de1b",
   "metadata": {},
   "source": [
    "The scores achieved with this model were a train accuracy and MAE of ~99% and $1.80, respectively, and a test accuracy and loss of ~98% and 4.80 dollars, respectively. Although very simple, these scores with minimal MAE will best serve the stakeholder when they are seeking to predict the nightly price of their AirBnB."
   ]
  },
  {
   "cell_type": "markdown",
   "id": "94399d10",
   "metadata": {},
   "source": [
    "## Recommendation:"
   ]
  },
  {
   "cell_type": "markdown",
   "id": "e518bf0f",
   "metadata": {},
   "source": [
    "With the above analysis, it is recommended that the stakeholder, utilizes the final, third model, which is a simple Random Forest Regression model. As previously mentioned, AirBnB owners are not required any prior experience within real estate or renting out property. As such a number of AirBnB owners rely on best-guesses and intuition when it comes to what they should charge for a night’s stay at their property. As a result, if the owner is listing their property for too high of a price they could lose out on business, too low and there is a loss for potential income. Based the model, it appears as though if the stakeholder utilizes this model, it will correctly predict AirBnB prices with ~99% accuracy based on the home characteristics the stakeholder will input. For more detail on these inputs, please refer to the Streamlit link here () which is a user-friendly app AirBnB owners can utilize to run these predictions."
   ]
  },
  {
   "cell_type": "markdown",
   "id": "54e34e5c",
   "metadata": {},
   "source": [
    "## Next Steps:"
   ]
  },
  {
   "cell_type": "markdown",
   "id": "12598117",
   "metadata": {},
   "source": [
    "Further criteria and analyses could yield additional insights to further inform the stakeholder by:\n",
    "\n",
    "- **Consider real-world price impacts such as inflation.** The stakeholder should consider factoring in real-word price impacts. Recent changes in the world, namely rapidly increasing inflation could heavily impact the predictive model. Considering the model is running on 2022 historical data, it does not consider future impacts to price. As such, the stakeholder should consider adding an inflation factor or multiplier when predicting 2023 data.\n",
    "- **Factor in other factors which impact price such as ‘experiences’.** Another factor the stakeholder should consider is including data of AirBnB ‘experiences’. AirBnB offers a service known as ‘experiences’. With these experiences, guests are able to book through their AirBnb local activities in the area such as tours, dance, classes and more. Given these experiences are booked in coordination with an AirBnB, it would be interesting for the stakeholder to consider adding data on this to evaluate if there is in fact a relationship between an AirBnB’s price and its proximity to experiences.\n",
    "- **Consider additional data (older data, other cities).** Lastly, the stakeholder should consider additional data to factor into the model. Given this data set relies on just 2022 price data it would be helpful to consider adding even older data such as 2020 and 2021. Additionally, the models are only being utilized for three cities, Asheville, Nashville, and Austin. By factoring in these other attributes the model would only further train and become more accurate when reviewing unseen data."
   ]
  }
 ],
 "metadata": {
  "kernelspec": {
   "display_name": "tensorflow_env",
   "language": "python",
   "name": "tensorflow_env"
  },
  "language_info": {
   "codemirror_mode": {
    "name": "ipython",
    "version": 3
   },
   "file_extension": ".py",
   "mimetype": "text/x-python",
   "name": "python",
   "nbconvert_exporter": "python",
   "pygments_lexer": "ipython3",
   "version": "3.8.15"
  }
 },
 "nbformat": 4,
 "nbformat_minor": 5
}
